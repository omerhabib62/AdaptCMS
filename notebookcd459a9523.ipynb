{
 "cells": [
  {
   "cell_type": "code",
   "execution_count": 1,
   "id": "720ab368",
   "metadata": {
    "_cell_guid": "b1076dfc-b9ad-4769-8c92-a6c4dae69d19",
    "_uuid": "8f2839f25d086af736a60e9eeb907d3b93b6e0e5",
    "execution": {
     "iopub.execute_input": "2023-04-12T02:13:16.669641Z",
     "iopub.status.busy": "2023-04-12T02:13:16.669060Z",
     "iopub.status.idle": "2023-04-12T02:13:18.182590Z",
     "shell.execute_reply": "2023-04-12T02:13:18.181278Z"
    },
    "papermill": {
     "duration": 1.523769,
     "end_time": "2023-04-12T02:13:18.185722",
     "exception": false,
     "start_time": "2023-04-12T02:13:16.661953",
     "status": "completed"
    },
    "tags": []
   },
   "outputs": [],
   "source": [
    "import pandas as pd\n",
    "from sklearn.compose import ColumnTransformer\n",
    "from sklearn.pipeline import Pipeline\n",
    "from sklearn.preprocessing import OneHotEncoder, StandardScaler\n",
    "from sklearn.linear_model import LogisticRegression"
   ]
  },
  {
   "cell_type": "code",
   "execution_count": 2,
   "id": "2054fdaf",
   "metadata": {
    "execution": {
     "iopub.execute_input": "2023-04-12T02:13:18.197596Z",
     "iopub.status.busy": "2023-04-12T02:13:18.196171Z",
     "iopub.status.idle": "2023-04-12T02:13:18.710448Z",
     "shell.execute_reply": "2023-04-12T02:13:18.709406Z"
    },
    "papermill": {
     "duration": 0.523068,
     "end_time": "2023-04-12T02:13:18.713257",
     "exception": false,
     "start_time": "2023-04-12T02:13:18.190189",
     "status": "completed"
    },
    "tags": []
   },
   "outputs": [],
   "source": [
    "       \n",
    "train_df = pd.read_csv(\"/kaggle/input/ml-1-spring-2023-challenge-2/training.csv\");\n",
    "test_df = pd.read_csv(\"/kaggle/input/ml-1-spring-2023-challenge-2/testing.csv\");"
   ]
  },
  {
   "cell_type": "code",
   "execution_count": 3,
   "id": "b4b16691",
   "metadata": {
    "execution": {
     "iopub.execute_input": "2023-04-12T02:13:18.724924Z",
     "iopub.status.busy": "2023-04-12T02:13:18.724176Z",
     "iopub.status.idle": "2023-04-12T02:13:18.756339Z",
     "shell.execute_reply": "2023-04-12T02:13:18.754834Z"
    },
    "papermill": {
     "duration": 0.040826,
     "end_time": "2023-04-12T02:13:18.759076",
     "exception": false,
     "start_time": "2023-04-12T02:13:18.718250",
     "status": "completed"
    },
    "tags": []
   },
   "outputs": [],
   "source": [
    "# Split the training data into features and target variable\n",
    "X_train = train_df.drop(['TARGET_LABEL'], axis=1)\n",
    "y_train = train_df['TARGET_LABEL']"
   ]
  },
  {
   "cell_type": "code",
   "execution_count": 4,
   "id": "29037e78",
   "metadata": {
    "execution": {
     "iopub.execute_input": "2023-04-12T02:13:18.769373Z",
     "iopub.status.busy": "2023-04-12T02:13:18.768934Z",
     "iopub.status.idle": "2023-04-12T02:13:18.800571Z",
     "shell.execute_reply": "2023-04-12T02:13:18.799542Z"
    },
    "papermill": {
     "duration": 0.039931,
     "end_time": "2023-04-12T02:13:18.803181",
     "exception": false,
     "start_time": "2023-04-12T02:13:18.763250",
     "status": "completed"
    },
    "tags": []
   },
   "outputs": [],
   "source": [
    "\n",
    "# Identify categorical and numerical columns\n",
    "cat_cols = X_train.select_dtypes(include=['object']).columns\n",
    "num_cols = X_train.select_dtypes(include=['float64', 'int64']).columns"
   ]
  },
  {
   "cell_type": "code",
   "execution_count": 5,
   "id": "9592e1d1",
   "metadata": {
    "execution": {
     "iopub.execute_input": "2023-04-12T02:13:18.813538Z",
     "iopub.status.busy": "2023-04-12T02:13:18.813082Z",
     "iopub.status.idle": "2023-04-12T02:13:18.818736Z",
     "shell.execute_reply": "2023-04-12T02:13:18.817373Z"
    },
    "papermill": {
     "duration": 0.01362,
     "end_time": "2023-04-12T02:13:18.821213",
     "exception": false,
     "start_time": "2023-04-12T02:13:18.807593",
     "status": "completed"
    },
    "tags": []
   },
   "outputs": [],
   "source": [
    "# Define preprocessing pipelines for categorical and numerical columns\n",
    "cat_pipe = Pipeline([\n",
    "    ('onehot', OneHotEncoder(handle_unknown='ignore'))\n",
    "])"
   ]
  },
  {
   "cell_type": "code",
   "execution_count": 6,
   "id": "32655e14",
   "metadata": {
    "execution": {
     "iopub.execute_input": "2023-04-12T02:13:18.831336Z",
     "iopub.status.busy": "2023-04-12T02:13:18.830918Z",
     "iopub.status.idle": "2023-04-12T02:13:18.836074Z",
     "shell.execute_reply": "2023-04-12T02:13:18.834795Z"
    },
    "papermill": {
     "duration": 0.013392,
     "end_time": "2023-04-12T02:13:18.838741",
     "exception": false,
     "start_time": "2023-04-12T02:13:18.825349",
     "status": "completed"
    },
    "tags": []
   },
   "outputs": [],
   "source": [
    "num_pipe = Pipeline([\n",
    "    ('scaler', StandardScaler())\n",
    "])"
   ]
  },
  {
   "cell_type": "markdown",
   "id": "50095693",
   "metadata": {
    "papermill": {
     "duration": 0.003711,
     "end_time": "2023-04-12T02:13:18.846558",
     "exception": false,
     "start_time": "2023-04-12T02:13:18.842847",
     "status": "completed"
    },
    "tags": []
   },
   "source": []
  },
  {
   "cell_type": "code",
   "execution_count": 7,
   "id": "abeed456",
   "metadata": {
    "execution": {
     "iopub.execute_input": "2023-04-12T02:13:18.857553Z",
     "iopub.status.busy": "2023-04-12T02:13:18.856302Z",
     "iopub.status.idle": "2023-04-12T02:13:18.862210Z",
     "shell.execute_reply": "2023-04-12T02:13:18.861363Z"
    },
    "papermill": {
     "duration": 0.014196,
     "end_time": "2023-04-12T02:13:18.864741",
     "exception": false,
     "start_time": "2023-04-12T02:13:18.850545",
     "status": "completed"
    },
    "tags": []
   },
   "outputs": [],
   "source": [
    "# Combine the pipelines using ColumnTransformer\n",
    "preprocessor = ColumnTransformer(\n",
    "    transformers=[\n",
    "        ('cat', cat_pipe, cat_cols),\n",
    "        ('num', num_pipe, num_cols)\n",
    "    ])"
   ]
  },
  {
   "cell_type": "code",
   "execution_count": 8,
   "id": "153f3fe3",
   "metadata": {
    "execution": {
     "iopub.execute_input": "2023-04-12T02:13:18.875204Z",
     "iopub.status.busy": "2023-04-12T02:13:18.874366Z",
     "iopub.status.idle": "2023-04-12T02:13:18.880329Z",
     "shell.execute_reply": "2023-04-12T02:13:18.879461Z"
    },
    "papermill": {
     "duration": 0.014142,
     "end_time": "2023-04-12T02:13:18.882946",
     "exception": false,
     "start_time": "2023-04-12T02:13:18.868804",
     "status": "completed"
    },
    "tags": []
   },
   "outputs": [],
   "source": [
    "# Train a logistic regression model\n",
    "clf = Pipeline([\n",
    "    ('preprocessor', preprocessor),\n",
    "    ('classifier', LogisticRegression(max_iter=1000))\n",
    "])"
   ]
  },
  {
   "cell_type": "code",
   "execution_count": 9,
   "id": "9309dbf0",
   "metadata": {
    "execution": {
     "iopub.execute_input": "2023-04-12T02:13:18.893595Z",
     "iopub.status.busy": "2023-04-12T02:13:18.892757Z",
     "iopub.status.idle": "2023-04-12T02:13:31.655990Z",
     "shell.execute_reply": "2023-04-12T02:13:31.654213Z"
    },
    "papermill": {
     "duration": 12.774298,
     "end_time": "2023-04-12T02:13:31.661347",
     "exception": false,
     "start_time": "2023-04-12T02:13:18.887049",
     "status": "completed"
    },
    "tags": []
   },
   "outputs": [
    {
     "data": {
      "text/plain": [
       "Pipeline(steps=[('preprocessor',\n",
       "                 ColumnTransformer(transformers=[('cat',\n",
       "                                                  Pipeline(steps=[('onehot',\n",
       "                                                                   OneHotEncoder(handle_unknown='ignore'))]),\n",
       "                                                  Index(['row ID', 'DATETIME', 'CREDIT_ANALYSIS_PROCESS', 'Gender',\n",
       "       'MaritalStatus', 'Flag_TelResidence', 'TypeOfResidence',\n",
       "       'FLAG_MotherName', 'Flag_FatherName', 'Flag_JobSameCity',\n",
       "       'Flag_OtherCard'],\n",
       "      dtype='object')),\n",
       "                                                 ('num',\n",
       "                                                  Pipeline(steps=[('scaler',\n",
       "                                                                   StandardScaler())]),\n",
       "                                                  Index(['ID_CLIENT', 'BranchID', 'Age', 'NumberOfDependents', 'BillDueDate',\n",
       "       'MonthsInCurrentResidence', 'MonthsInCurrentJob',\n",
       "       'NumberOfBankAccounts', 'MonthlyIncome'],\n",
       "      dtype='object'))])),\n",
       "                ('classifier', LogisticRegression(max_iter=1000))])"
      ]
     },
     "execution_count": 9,
     "metadata": {},
     "output_type": "execute_result"
    }
   ],
   "source": [
    "clf.fit(X_train, y_train)"
   ]
  },
  {
   "cell_type": "code",
   "execution_count": 10,
   "id": "6d631c68",
   "metadata": {
    "execution": {
     "iopub.execute_input": "2023-04-12T02:13:31.686649Z",
     "iopub.status.busy": "2023-04-12T02:13:31.685913Z",
     "iopub.status.idle": "2023-04-12T02:13:32.158086Z",
     "shell.execute_reply": "2023-04-12T02:13:32.156848Z"
    },
    "papermill": {
     "duration": 0.488177,
     "end_time": "2023-04-12T02:13:32.161167",
     "exception": false,
     "start_time": "2023-04-12T02:13:31.672990",
     "status": "completed"
    },
    "tags": []
   },
   "outputs": [],
   "source": [
    "# Make predictions on the testing data\n",
    "X_test = test_df\n",
    "y_pred_proba = clf.predict_proba(X_test)[:, 1]"
   ]
  },
  {
   "cell_type": "code",
   "execution_count": 11,
   "id": "73b45877",
   "metadata": {
    "execution": {
     "iopub.execute_input": "2023-04-12T02:13:32.171461Z",
     "iopub.status.busy": "2023-04-12T02:13:32.171050Z",
     "iopub.status.idle": "2023-04-12T02:13:32.251841Z",
     "shell.execute_reply": "2023-04-12T02:13:32.250323Z"
    },
    "papermill": {
     "duration": 0.089913,
     "end_time": "2023-04-12T02:13:32.255301",
     "exception": false,
     "start_time": "2023-04-12T02:13:32.165388",
     "status": "completed"
    },
    "tags": []
   },
   "outputs": [],
   "source": [
    "# Output the predicted probabilities in a CSV file\n",
    "output_df = pd.DataFrame({'row ID': test_df['row ID'], 'TARGET_LABEL': y_pred_proba})\n",
    "output_df.to_csv('/kaggle/working/predictions.csv', index=False)"
   ]
  },
  {
   "cell_type": "code",
   "execution_count": 12,
   "id": "80225f01",
   "metadata": {
    "execution": {
     "iopub.execute_input": "2023-04-12T02:13:32.265214Z",
     "iopub.status.busy": "2023-04-12T02:13:32.264818Z",
     "iopub.status.idle": "2023-04-12T02:13:32.280118Z",
     "shell.execute_reply": "2023-04-12T02:13:32.278860Z"
    },
    "papermill": {
     "duration": 0.023707,
     "end_time": "2023-04-12T02:13:32.283242",
     "exception": false,
     "start_time": "2023-04-12T02:13:32.259535",
     "status": "completed"
    },
    "tags": []
   },
   "outputs": [
    {
     "name": "stdout",
     "output_type": "stream",
     "text": [
      "         row ID  TARGET_LABEL\n",
      "0          Row2      0.077356\n",
      "1          Row6      0.166802\n",
      "2          Row7      0.055259\n",
      "3         Row10      0.126088\n",
      "4         Row12      0.255178\n",
      "...         ...           ...\n",
      "29995  Row99993      0.216939\n",
      "29996  Row99994      0.182274\n",
      "29997  Row99995      0.249943\n",
      "29998  Row99998      0.257785\n",
      "29999  Row99999      0.324428\n",
      "\n",
      "[30000 rows x 2 columns]\n"
     ]
    }
   ],
   "source": [
    "print(output_df)"
   ]
  },
  {
   "cell_type": "markdown",
   "id": "d45d1acc",
   "metadata": {
    "papermill": {
     "duration": 0.003992,
     "end_time": "2023-04-12T02:13:32.291617",
     "exception": false,
     "start_time": "2023-04-12T02:13:32.287625",
     "status": "completed"
    },
    "tags": []
   },
   "source": []
  }
 ],
 "metadata": {
  "kernelspec": {
   "display_name": "Python 3",
   "language": "python",
   "name": "python3"
  },
  "language_info": {
   "codemirror_mode": {
    "name": "ipython",
    "version": 3
   },
   "file_extension": ".py",
   "mimetype": "text/x-python",
   "name": "python",
   "nbconvert_exporter": "python",
   "pygments_lexer": "ipython3",
   "version": "3.7.12"
  },
  "papermill": {
   "default_parameters": {},
   "duration": 27.202686,
   "end_time": "2023-04-12T02:13:33.018181",
   "environment_variables": {},
   "exception": null,
   "input_path": "__notebook__.ipynb",
   "output_path": "__notebook__.ipynb",
   "parameters": {},
   "start_time": "2023-04-12T02:13:05.815495",
   "version": "2.4.0"
  }
 },
 "nbformat": 4,
 "nbformat_minor": 5
}
