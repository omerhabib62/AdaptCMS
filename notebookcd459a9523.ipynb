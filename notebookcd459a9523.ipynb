{
 "cells": [
  {
   "cell_type": "code",
   "execution_count": 1,
   "id": "d504f999",
   "metadata": {
    "_cell_guid": "b1076dfc-b9ad-4769-8c92-a6c4dae69d19",
    "_uuid": "8f2839f25d086af736a60e9eeb907d3b93b6e0e5",
    "execution": {
     "iopub.execute_input": "2023-04-12T02:22:44.820784Z",
     "iopub.status.busy": "2023-04-12T02:22:44.820342Z",
     "iopub.status.idle": "2023-04-12T02:22:46.231145Z",
     "shell.execute_reply": "2023-04-12T02:22:46.229785Z"
    },
    "papermill": {
     "duration": 1.421128,
     "end_time": "2023-04-12T02:22:46.234337",
     "exception": false,
     "start_time": "2023-04-12T02:22:44.813209",
     "status": "completed"
    },
    "tags": []
   },
   "outputs": [],
   "source": [
    "import pandas as pd\n",
    "from sklearn.compose import ColumnTransformer\n",
    "from sklearn.pipeline import Pipeline\n",
    "from sklearn.preprocessing import OneHotEncoder, StandardScaler\n",
    "from sklearn.linear_model import LogisticRegression"
   ]
  },
  {
   "cell_type": "code",
   "execution_count": 2,
   "id": "c4ed73e9",
   "metadata": {
    "execution": {
     "iopub.execute_input": "2023-04-12T02:22:46.245171Z",
     "iopub.status.busy": "2023-04-12T02:22:46.244692Z",
     "iopub.status.idle": "2023-04-12T02:22:46.740328Z",
     "shell.execute_reply": "2023-04-12T02:22:46.739429Z"
    },
    "papermill": {
     "duration": 0.503957,
     "end_time": "2023-04-12T02:22:46.743119",
     "exception": false,
     "start_time": "2023-04-12T02:22:46.239162",
     "status": "completed"
    },
    "tags": []
   },
   "outputs": [],
   "source": [
    "       \n",
    "train_df = pd.read_csv(\"/kaggle/input/ml-1-spring-2023-challenge-2/training.csv\");\n",
    "test_df = pd.read_csv(\"/kaggle/input/ml-1-spring-2023-challenge-2/testing.csv\");"
   ]
  },
  {
   "cell_type": "code",
   "execution_count": 3,
   "id": "55351ba4",
   "metadata": {
    "execution": {
     "iopub.execute_input": "2023-04-12T02:22:46.754669Z",
     "iopub.status.busy": "2023-04-12T02:22:46.753309Z",
     "iopub.status.idle": "2023-04-12T02:22:46.784965Z",
     "shell.execute_reply": "2023-04-12T02:22:46.783436Z"
    },
    "papermill": {
     "duration": 0.040457,
     "end_time": "2023-04-12T02:22:46.787700",
     "exception": false,
     "start_time": "2023-04-12T02:22:46.747243",
     "status": "completed"
    },
    "tags": []
   },
   "outputs": [],
   "source": [
    "# Split the training data into features and target variable\n",
    "X_train = train_df.drop(['TARGET_LABEL'], axis=1)\n",
    "y_train = train_df['TARGET_LABEL']"
   ]
  },
  {
   "cell_type": "code",
   "execution_count": 4,
   "id": "59973de9",
   "metadata": {
    "execution": {
     "iopub.execute_input": "2023-04-12T02:22:46.798772Z",
     "iopub.status.busy": "2023-04-12T02:22:46.797471Z",
     "iopub.status.idle": "2023-04-12T02:22:46.830719Z",
     "shell.execute_reply": "2023-04-12T02:22:46.829588Z"
    },
    "papermill": {
     "duration": 0.04191,
     "end_time": "2023-04-12T02:22:46.833760",
     "exception": false,
     "start_time": "2023-04-12T02:22:46.791850",
     "status": "completed"
    },
    "tags": []
   },
   "outputs": [],
   "source": [
    "\n",
    "# Identify categorical and numerical columns\n",
    "cat_cols = X_train.select_dtypes(include=['object']).columns\n",
    "num_cols = X_train.select_dtypes(include=['float64', 'int64']).columns"
   ]
  },
  {
   "cell_type": "code",
   "execution_count": 5,
   "id": "56d5ef8c",
   "metadata": {
    "execution": {
     "iopub.execute_input": "2023-04-12T02:22:46.844550Z",
     "iopub.status.busy": "2023-04-12T02:22:46.843654Z",
     "iopub.status.idle": "2023-04-12T02:22:46.849320Z",
     "shell.execute_reply": "2023-04-12T02:22:46.848141Z"
    },
    "papermill": {
     "duration": 0.013971,
     "end_time": "2023-04-12T02:22:46.851976",
     "exception": false,
     "start_time": "2023-04-12T02:22:46.838005",
     "status": "completed"
    },
    "tags": []
   },
   "outputs": [],
   "source": [
    "# Define preprocessing pipelines for categorical and numerical columns\n",
    "cat_pipe = Pipeline([\n",
    "    ('onehot', OneHotEncoder(handle_unknown='ignore'))\n",
    "])"
   ]
  },
  {
   "cell_type": "code",
   "execution_count": 6,
   "id": "6c48ad14",
   "metadata": {
    "execution": {
     "iopub.execute_input": "2023-04-12T02:22:46.862238Z",
     "iopub.status.busy": "2023-04-12T02:22:46.861750Z",
     "iopub.status.idle": "2023-04-12T02:22:46.867077Z",
     "shell.execute_reply": "2023-04-12T02:22:46.865796Z"
    },
    "papermill": {
     "duration": 0.013634,
     "end_time": "2023-04-12T02:22:46.869852",
     "exception": false,
     "start_time": "2023-04-12T02:22:46.856218",
     "status": "completed"
    },
    "tags": []
   },
   "outputs": [],
   "source": [
    "num_pipe = Pipeline([\n",
    "    ('scaler', StandardScaler())\n",
    "])"
   ]
  },
  {
   "cell_type": "markdown",
   "id": "d25a4624",
   "metadata": {
    "papermill": {
     "duration": 0.004357,
     "end_time": "2023-04-12T02:22:46.878430",
     "exception": false,
     "start_time": "2023-04-12T02:22:46.874073",
     "status": "completed"
    },
    "tags": []
   },
   "source": []
  },
  {
   "cell_type": "code",
   "execution_count": 7,
   "id": "501b76f5",
   "metadata": {
    "execution": {
     "iopub.execute_input": "2023-04-12T02:22:46.888904Z",
     "iopub.status.busy": "2023-04-12T02:22:46.888483Z",
     "iopub.status.idle": "2023-04-12T02:22:46.894082Z",
     "shell.execute_reply": "2023-04-12T02:22:46.892731Z"
    },
    "papermill": {
     "duration": 0.014442,
     "end_time": "2023-04-12T02:22:46.897033",
     "exception": false,
     "start_time": "2023-04-12T02:22:46.882591",
     "status": "completed"
    },
    "tags": []
   },
   "outputs": [],
   "source": [
    "# Combine the pipelines using ColumnTransformer\n",
    "preprocessor = ColumnTransformer(\n",
    "    transformers=[\n",
    "        ('cat', cat_pipe, cat_cols),\n",
    "        ('num', num_pipe, num_cols)\n",
    "    ])"
   ]
  },
  {
   "cell_type": "code",
   "execution_count": 8,
   "id": "f573c90a",
   "metadata": {
    "execution": {
     "iopub.execute_input": "2023-04-12T02:22:46.907465Z",
     "iopub.status.busy": "2023-04-12T02:22:46.907037Z",
     "iopub.status.idle": "2023-04-12T02:22:46.912976Z",
     "shell.execute_reply": "2023-04-12T02:22:46.911807Z"
    },
    "papermill": {
     "duration": 0.01436,
     "end_time": "2023-04-12T02:22:46.915556",
     "exception": false,
     "start_time": "2023-04-12T02:22:46.901196",
     "status": "completed"
    },
    "tags": []
   },
   "outputs": [],
   "source": [
    "# Train a logistic regression model\n",
    "clf = Pipeline([\n",
    "    ('preprocessor', preprocessor),\n",
    "    ('classifier', LogisticRegression(max_iter=1000))\n",
    "])"
   ]
  },
  {
   "cell_type": "code",
   "execution_count": 9,
   "id": "4afacb99",
   "metadata": {
    "execution": {
     "iopub.execute_input": "2023-04-12T02:22:46.926163Z",
     "iopub.status.busy": "2023-04-12T02:22:46.925762Z",
     "iopub.status.idle": "2023-04-12T02:23:00.283757Z",
     "shell.execute_reply": "2023-04-12T02:23:00.281993Z"
    },
    "papermill": {
     "duration": 13.370347,
     "end_time": "2023-04-12T02:23:00.290065",
     "exception": false,
     "start_time": "2023-04-12T02:22:46.919718",
     "status": "completed"
    },
    "tags": []
   },
   "outputs": [
    {
     "data": {
      "text/plain": [
       "Pipeline(steps=[('preprocessor',\n",
       "                 ColumnTransformer(transformers=[('cat',\n",
       "                                                  Pipeline(steps=[('onehot',\n",
       "                                                                   OneHotEncoder(handle_unknown='ignore'))]),\n",
       "                                                  Index(['row ID', 'DATETIME', 'CREDIT_ANALYSIS_PROCESS', 'Gender',\n",
       "       'MaritalStatus', 'Flag_TelResidence', 'TypeOfResidence',\n",
       "       'FLAG_MotherName', 'Flag_FatherName', 'Flag_JobSameCity',\n",
       "       'Flag_OtherCard'],\n",
       "      dtype='object')),\n",
       "                                                 ('num',\n",
       "                                                  Pipeline(steps=[('scaler',\n",
       "                                                                   StandardScaler())]),\n",
       "                                                  Index(['ID_CLIENT', 'BranchID', 'Age', 'NumberOfDependents', 'BillDueDate',\n",
       "       'MonthsInCurrentResidence', 'MonthsInCurrentJob',\n",
       "       'NumberOfBankAccounts', 'MonthlyIncome'],\n",
       "      dtype='object'))])),\n",
       "                ('classifier', LogisticRegression(max_iter=1000))])"
      ]
     },
     "execution_count": 9,
     "metadata": {},
     "output_type": "execute_result"
    }
   ],
   "source": [
    "clf.fit(X_train, y_train)"
   ]
  },
  {
   "cell_type": "code",
   "execution_count": 10,
   "id": "2ad1f4f7",
   "metadata": {
    "execution": {
     "iopub.execute_input": "2023-04-12T02:23:00.314779Z",
     "iopub.status.busy": "2023-04-12T02:23:00.313988Z",
     "iopub.status.idle": "2023-04-12T02:23:00.812476Z",
     "shell.execute_reply": "2023-04-12T02:23:00.811292Z"
    },
    "papermill": {
     "duration": 0.514694,
     "end_time": "2023-04-12T02:23:00.815665",
     "exception": false,
     "start_time": "2023-04-12T02:23:00.300971",
     "status": "completed"
    },
    "tags": []
   },
   "outputs": [],
   "source": [
    "# Make predictions on the testing data\n",
    "X_test = test_df\n",
    "y_pred_proba = clf.predict_proba(X_test)[:, 1]"
   ]
  },
  {
   "cell_type": "code",
   "execution_count": 11,
   "id": "7036dfa9",
   "metadata": {
    "execution": {
     "iopub.execute_input": "2023-04-12T02:23:00.826051Z",
     "iopub.status.busy": "2023-04-12T02:23:00.825627Z",
     "iopub.status.idle": "2023-04-12T02:23:00.907701Z",
     "shell.execute_reply": "2023-04-12T02:23:00.906282Z"
    },
    "papermill": {
     "duration": 0.090632,
     "end_time": "2023-04-12T02:23:00.910620",
     "exception": false,
     "start_time": "2023-04-12T02:23:00.819988",
     "status": "completed"
    },
    "tags": []
   },
   "outputs": [],
   "source": [
    "# Output the predicted probabilities in a CSV file\n",
    "output_df = pd.DataFrame({'row ID': test_df['row ID'], 'TARGET_LABEL': y_pred_proba})\n",
    "output_df.to_csv('/kaggle/working/predictions.csv', index=False)"
   ]
  },
  {
   "cell_type": "code",
   "execution_count": 12,
   "id": "b1f57612",
   "metadata": {
    "execution": {
     "iopub.execute_input": "2023-04-12T02:23:00.921018Z",
     "iopub.status.busy": "2023-04-12T02:23:00.920534Z",
     "iopub.status.idle": "2023-04-12T02:23:00.935405Z",
     "shell.execute_reply": "2023-04-12T02:23:00.933690Z"
    },
    "papermill": {
     "duration": 0.0232,
     "end_time": "2023-04-12T02:23:00.938151",
     "exception": false,
     "start_time": "2023-04-12T02:23:00.914951",
     "status": "completed"
    },
    "tags": []
   },
   "outputs": [
    {
     "name": "stdout",
     "output_type": "stream",
     "text": [
      "         row ID  TARGET_LABEL\n",
      "0          Row2      0.077356\n",
      "1          Row6      0.166802\n",
      "2          Row7      0.055259\n",
      "3         Row10      0.126088\n",
      "4         Row12      0.255178\n",
      "...         ...           ...\n",
      "29995  Row99993      0.216939\n",
      "29996  Row99994      0.182274\n",
      "29997  Row99995      0.249943\n",
      "29998  Row99998      0.257785\n",
      "29999  Row99999      0.324428\n",
      "\n",
      "[30000 rows x 2 columns]\n"
     ]
    }
   ],
   "source": [
    "print(output_df)"
   ]
  },
  {
   "cell_type": "markdown",
   "id": "82522293",
   "metadata": {
    "papermill": {
     "duration": 0.003998,
     "end_time": "2023-04-12T02:23:00.946617",
     "exception": false,
     "start_time": "2023-04-12T02:23:00.942619",
     "status": "completed"
    },
    "tags": []
   },
   "source": []
  }
 ],
 "metadata": {
  "kernelspec": {
   "display_name": "Python 3",
   "language": "python",
   "name": "python3"
  },
  "language_info": {
   "codemirror_mode": {
    "name": "ipython",
    "version": 3
   },
   "file_extension": ".py",
   "mimetype": "text/x-python",
   "name": "python",
   "nbconvert_exporter": "python",
   "pygments_lexer": "ipython3",
   "version": "3.7.12"
  },
  "papermill": {
   "default_parameters": {},
   "duration": 28.099594,
   "end_time": "2023-04-12T02:23:01.775898",
   "environment_variables": {},
   "exception": null,
   "input_path": "__notebook__.ipynb",
   "output_path": "__notebook__.ipynb",
   "parameters": {},
   "start_time": "2023-04-12T02:22:33.676304",
   "version": "2.4.0"
  }
 },
 "nbformat": 4,
 "nbformat_minor": 5
}
